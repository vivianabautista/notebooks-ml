{
  "nbformat": 4,
  "nbformat_minor": 0,
  "metadata": {
    "colab": {
      "provenance": [],
      "authorship_tag": "ABX9TyPDhFMhpUDvrx2CJ+6P9Fjf",
      "include_colab_link": true
    },
    "kernelspec": {
      "name": "python3",
      "display_name": "Python 3"
    },
    "language_info": {
      "name": "python"
    }
  },
  "cells": [
    {
      "cell_type": "markdown",
      "metadata": {
        "id": "view-in-github",
        "colab_type": "text"
      },
      "source": [
        "<a href=\"https://colab.research.google.com/github/vivianabautista/notebooks-ml/blob/feature%2Fperfomance/1_Breast_Cancer_Wisconsin.ipynb\" target=\"_parent\"><img src=\"https://colab.research.google.com/assets/colab-badge.svg\" alt=\"Open In Colab\"/></a>"
      ]
    },
    {
      "cell_type": "code",
      "source": [
        "import pandas as pd\n",
        "from sklearn.preprocessing import LabelEncoder\n",
        "from sklearn.model_selection import train_test_split"
      ],
      "metadata": {
        "id": "dHrl4bLjbxtw"
      },
      "execution_count": 57,
      "outputs": []
    },
    {
      "cell_type": "markdown",
      "source": [
        "# Preparacion de datos\n",
        "\n",
        "Dataset: Breast Cancer Wisconsin. https://archive.ics.uci.edu/dataset/17/breast+cancer+wisconsin+diagnostic\n"
      ],
      "metadata": {
        "id": "-dbXNOQ2a1P1"
      }
    },
    {
      "cell_type": "markdown",
      "source": [
        "## Fuente de Datos"
      ],
      "metadata": {
        "id": "lq7FhvBFbiB6"
      }
    },
    {
      "cell_type": "code",
      "source": [
        "data_url = 'https://archive.ics.uci.edu/static/public/17/data.csv'\n"
      ],
      "metadata": {
        "id": "K8ZTF-OMcY7i"
      },
      "execution_count": 8,
      "outputs": []
    },
    {
      "cell_type": "code",
      "source": [
        "df = pd.read_csv(data_url)\n",
        "df.head()"
      ],
      "metadata": {
        "colab": {
          "base_uri": "https://localhost:8080/",
          "height": 256
        },
        "id": "E6Vl9PrKbz5t",
        "outputId": "4800a1d8-fa57-43e7-baa2-c0c79a3c38b3"
      },
      "execution_count": 30,
      "outputs": [
        {
          "output_type": "execute_result",
          "data": {
            "text/plain": [
              "         ID  radius1  texture1  perimeter1   area1  smoothness1  compactness1  \\\n",
              "0    842302    17.99     10.38      122.80  1001.0      0.11840       0.27760   \n",
              "1    842517    20.57     17.77      132.90  1326.0      0.08474       0.07864   \n",
              "2  84300903    19.69     21.25      130.00  1203.0      0.10960       0.15990   \n",
              "3  84348301    11.42     20.38       77.58   386.1      0.14250       0.28390   \n",
              "4  84358402    20.29     14.34      135.10  1297.0      0.10030       0.13280   \n",
              "\n",
              "   concavity1  concave_points1  symmetry1  ...  texture3  perimeter3   area3  \\\n",
              "0      0.3001          0.14710     0.2419  ...     17.33      184.60  2019.0   \n",
              "1      0.0869          0.07017     0.1812  ...     23.41      158.80  1956.0   \n",
              "2      0.1974          0.12790     0.2069  ...     25.53      152.50  1709.0   \n",
              "3      0.2414          0.10520     0.2597  ...     26.50       98.87   567.7   \n",
              "4      0.1980          0.10430     0.1809  ...     16.67      152.20  1575.0   \n",
              "\n",
              "   smoothness3  compactness3  concavity3  concave_points3  symmetry3  \\\n",
              "0       0.1622        0.6656      0.7119           0.2654     0.4601   \n",
              "1       0.1238        0.1866      0.2416           0.1860     0.2750   \n",
              "2       0.1444        0.4245      0.4504           0.2430     0.3613   \n",
              "3       0.2098        0.8663      0.6869           0.2575     0.6638   \n",
              "4       0.1374        0.2050      0.4000           0.1625     0.2364   \n",
              "\n",
              "   fractal_dimension3  Diagnosis  \n",
              "0             0.11890          M  \n",
              "1             0.08902          M  \n",
              "2             0.08758          M  \n",
              "3             0.17300          M  \n",
              "4             0.07678          M  \n",
              "\n",
              "[5 rows x 32 columns]"
            ],
            "text/html": [
              "\n",
              "  <div id=\"df-cae36abe-ac0f-4f61-bc95-9e4806f28ac3\" class=\"colab-df-container\">\n",
              "    <div>\n",
              "<style scoped>\n",
              "    .dataframe tbody tr th:only-of-type {\n",
              "        vertical-align: middle;\n",
              "    }\n",
              "\n",
              "    .dataframe tbody tr th {\n",
              "        vertical-align: top;\n",
              "    }\n",
              "\n",
              "    .dataframe thead th {\n",
              "        text-align: right;\n",
              "    }\n",
              "</style>\n",
              "<table border=\"1\" class=\"dataframe\">\n",
              "  <thead>\n",
              "    <tr style=\"text-align: right;\">\n",
              "      <th></th>\n",
              "      <th>ID</th>\n",
              "      <th>radius1</th>\n",
              "      <th>texture1</th>\n",
              "      <th>perimeter1</th>\n",
              "      <th>area1</th>\n",
              "      <th>smoothness1</th>\n",
              "      <th>compactness1</th>\n",
              "      <th>concavity1</th>\n",
              "      <th>concave_points1</th>\n",
              "      <th>symmetry1</th>\n",
              "      <th>...</th>\n",
              "      <th>texture3</th>\n",
              "      <th>perimeter3</th>\n",
              "      <th>area3</th>\n",
              "      <th>smoothness3</th>\n",
              "      <th>compactness3</th>\n",
              "      <th>concavity3</th>\n",
              "      <th>concave_points3</th>\n",
              "      <th>symmetry3</th>\n",
              "      <th>fractal_dimension3</th>\n",
              "      <th>Diagnosis</th>\n",
              "    </tr>\n",
              "  </thead>\n",
              "  <tbody>\n",
              "    <tr>\n",
              "      <th>0</th>\n",
              "      <td>842302</td>\n",
              "      <td>17.99</td>\n",
              "      <td>10.38</td>\n",
              "      <td>122.80</td>\n",
              "      <td>1001.0</td>\n",
              "      <td>0.11840</td>\n",
              "      <td>0.27760</td>\n",
              "      <td>0.3001</td>\n",
              "      <td>0.14710</td>\n",
              "      <td>0.2419</td>\n",
              "      <td>...</td>\n",
              "      <td>17.33</td>\n",
              "      <td>184.60</td>\n",
              "      <td>2019.0</td>\n",
              "      <td>0.1622</td>\n",
              "      <td>0.6656</td>\n",
              "      <td>0.7119</td>\n",
              "      <td>0.2654</td>\n",
              "      <td>0.4601</td>\n",
              "      <td>0.11890</td>\n",
              "      <td>M</td>\n",
              "    </tr>\n",
              "    <tr>\n",
              "      <th>1</th>\n",
              "      <td>842517</td>\n",
              "      <td>20.57</td>\n",
              "      <td>17.77</td>\n",
              "      <td>132.90</td>\n",
              "      <td>1326.0</td>\n",
              "      <td>0.08474</td>\n",
              "      <td>0.07864</td>\n",
              "      <td>0.0869</td>\n",
              "      <td>0.07017</td>\n",
              "      <td>0.1812</td>\n",
              "      <td>...</td>\n",
              "      <td>23.41</td>\n",
              "      <td>158.80</td>\n",
              "      <td>1956.0</td>\n",
              "      <td>0.1238</td>\n",
              "      <td>0.1866</td>\n",
              "      <td>0.2416</td>\n",
              "      <td>0.1860</td>\n",
              "      <td>0.2750</td>\n",
              "      <td>0.08902</td>\n",
              "      <td>M</td>\n",
              "    </tr>\n",
              "    <tr>\n",
              "      <th>2</th>\n",
              "      <td>84300903</td>\n",
              "      <td>19.69</td>\n",
              "      <td>21.25</td>\n",
              "      <td>130.00</td>\n",
              "      <td>1203.0</td>\n",
              "      <td>0.10960</td>\n",
              "      <td>0.15990</td>\n",
              "      <td>0.1974</td>\n",
              "      <td>0.12790</td>\n",
              "      <td>0.2069</td>\n",
              "      <td>...</td>\n",
              "      <td>25.53</td>\n",
              "      <td>152.50</td>\n",
              "      <td>1709.0</td>\n",
              "      <td>0.1444</td>\n",
              "      <td>0.4245</td>\n",
              "      <td>0.4504</td>\n",
              "      <td>0.2430</td>\n",
              "      <td>0.3613</td>\n",
              "      <td>0.08758</td>\n",
              "      <td>M</td>\n",
              "    </tr>\n",
              "    <tr>\n",
              "      <th>3</th>\n",
              "      <td>84348301</td>\n",
              "      <td>11.42</td>\n",
              "      <td>20.38</td>\n",
              "      <td>77.58</td>\n",
              "      <td>386.1</td>\n",
              "      <td>0.14250</td>\n",
              "      <td>0.28390</td>\n",
              "      <td>0.2414</td>\n",
              "      <td>0.10520</td>\n",
              "      <td>0.2597</td>\n",
              "      <td>...</td>\n",
              "      <td>26.50</td>\n",
              "      <td>98.87</td>\n",
              "      <td>567.7</td>\n",
              "      <td>0.2098</td>\n",
              "      <td>0.8663</td>\n",
              "      <td>0.6869</td>\n",
              "      <td>0.2575</td>\n",
              "      <td>0.6638</td>\n",
              "      <td>0.17300</td>\n",
              "      <td>M</td>\n",
              "    </tr>\n",
              "    <tr>\n",
              "      <th>4</th>\n",
              "      <td>84358402</td>\n",
              "      <td>20.29</td>\n",
              "      <td>14.34</td>\n",
              "      <td>135.10</td>\n",
              "      <td>1297.0</td>\n",
              "      <td>0.10030</td>\n",
              "      <td>0.13280</td>\n",
              "      <td>0.1980</td>\n",
              "      <td>0.10430</td>\n",
              "      <td>0.1809</td>\n",
              "      <td>...</td>\n",
              "      <td>16.67</td>\n",
              "      <td>152.20</td>\n",
              "      <td>1575.0</td>\n",
              "      <td>0.1374</td>\n",
              "      <td>0.2050</td>\n",
              "      <td>0.4000</td>\n",
              "      <td>0.1625</td>\n",
              "      <td>0.2364</td>\n",
              "      <td>0.07678</td>\n",
              "      <td>M</td>\n",
              "    </tr>\n",
              "  </tbody>\n",
              "</table>\n",
              "<p>5 rows × 32 columns</p>\n",
              "</div>\n",
              "    <div class=\"colab-df-buttons\">\n",
              "\n",
              "  <div class=\"colab-df-container\">\n",
              "    <button class=\"colab-df-convert\" onclick=\"convertToInteractive('df-cae36abe-ac0f-4f61-bc95-9e4806f28ac3')\"\n",
              "            title=\"Convert this dataframe to an interactive table.\"\n",
              "            style=\"display:none;\">\n",
              "\n",
              "  <svg xmlns=\"http://www.w3.org/2000/svg\" height=\"24px\" viewBox=\"0 -960 960 960\">\n",
              "    <path d=\"M120-120v-720h720v720H120Zm60-500h600v-160H180v160Zm220 220h160v-160H400v160Zm0 220h160v-160H400v160ZM180-400h160v-160H180v160Zm440 0h160v-160H620v160ZM180-180h160v-160H180v160Zm440 0h160v-160H620v160Z\"/>\n",
              "  </svg>\n",
              "    </button>\n",
              "\n",
              "  <style>\n",
              "    .colab-df-container {\n",
              "      display:flex;\n",
              "      gap: 12px;\n",
              "    }\n",
              "\n",
              "    .colab-df-convert {\n",
              "      background-color: #E8F0FE;\n",
              "      border: none;\n",
              "      border-radius: 50%;\n",
              "      cursor: pointer;\n",
              "      display: none;\n",
              "      fill: #1967D2;\n",
              "      height: 32px;\n",
              "      padding: 0 0 0 0;\n",
              "      width: 32px;\n",
              "    }\n",
              "\n",
              "    .colab-df-convert:hover {\n",
              "      background-color: #E2EBFA;\n",
              "      box-shadow: 0px 1px 2px rgba(60, 64, 67, 0.3), 0px 1px 3px 1px rgba(60, 64, 67, 0.15);\n",
              "      fill: #174EA6;\n",
              "    }\n",
              "\n",
              "    .colab-df-buttons div {\n",
              "      margin-bottom: 4px;\n",
              "    }\n",
              "\n",
              "    [theme=dark] .colab-df-convert {\n",
              "      background-color: #3B4455;\n",
              "      fill: #D2E3FC;\n",
              "    }\n",
              "\n",
              "    [theme=dark] .colab-df-convert:hover {\n",
              "      background-color: #434B5C;\n",
              "      box-shadow: 0px 1px 3px 1px rgba(0, 0, 0, 0.15);\n",
              "      filter: drop-shadow(0px 1px 2px rgba(0, 0, 0, 0.3));\n",
              "      fill: #FFFFFF;\n",
              "    }\n",
              "  </style>\n",
              "\n",
              "    <script>\n",
              "      const buttonEl =\n",
              "        document.querySelector('#df-cae36abe-ac0f-4f61-bc95-9e4806f28ac3 button.colab-df-convert');\n",
              "      buttonEl.style.display =\n",
              "        google.colab.kernel.accessAllowed ? 'block' : 'none';\n",
              "\n",
              "      async function convertToInteractive(key) {\n",
              "        const element = document.querySelector('#df-cae36abe-ac0f-4f61-bc95-9e4806f28ac3');\n",
              "        const dataTable =\n",
              "          await google.colab.kernel.invokeFunction('convertToInteractive',\n",
              "                                                    [key], {});\n",
              "        if (!dataTable) return;\n",
              "\n",
              "        const docLinkHtml = 'Like what you see? Visit the ' +\n",
              "          '<a target=\"_blank\" href=https://colab.research.google.com/notebooks/data_table.ipynb>data table notebook</a>'\n",
              "          + ' to learn more about interactive tables.';\n",
              "        element.innerHTML = '';\n",
              "        dataTable['output_type'] = 'display_data';\n",
              "        await google.colab.output.renderOutput(dataTable, element);\n",
              "        const docLink = document.createElement('div');\n",
              "        docLink.innerHTML = docLinkHtml;\n",
              "        element.appendChild(docLink);\n",
              "      }\n",
              "    </script>\n",
              "  </div>\n",
              "\n",
              "\n",
              "<div id=\"df-632d8a9f-1ff6-43e1-bd90-0bafd0f852c9\">\n",
              "  <button class=\"colab-df-quickchart\" onclick=\"quickchart('df-632d8a9f-1ff6-43e1-bd90-0bafd0f852c9')\"\n",
              "            title=\"Suggest charts\"\n",
              "            style=\"display:none;\">\n",
              "\n",
              "<svg xmlns=\"http://www.w3.org/2000/svg\" height=\"24px\"viewBox=\"0 0 24 24\"\n",
              "     width=\"24px\">\n",
              "    <g>\n",
              "        <path d=\"M19 3H5c-1.1 0-2 .9-2 2v14c0 1.1.9 2 2 2h14c1.1 0 2-.9 2-2V5c0-1.1-.9-2-2-2zM9 17H7v-7h2v7zm4 0h-2V7h2v10zm4 0h-2v-4h2v4z\"/>\n",
              "    </g>\n",
              "</svg>\n",
              "  </button>\n",
              "\n",
              "<style>\n",
              "  .colab-df-quickchart {\n",
              "      --bg-color: #E8F0FE;\n",
              "      --fill-color: #1967D2;\n",
              "      --hover-bg-color: #E2EBFA;\n",
              "      --hover-fill-color: #174EA6;\n",
              "      --disabled-fill-color: #AAA;\n",
              "      --disabled-bg-color: #DDD;\n",
              "  }\n",
              "\n",
              "  [theme=dark] .colab-df-quickchart {\n",
              "      --bg-color: #3B4455;\n",
              "      --fill-color: #D2E3FC;\n",
              "      --hover-bg-color: #434B5C;\n",
              "      --hover-fill-color: #FFFFFF;\n",
              "      --disabled-bg-color: #3B4455;\n",
              "      --disabled-fill-color: #666;\n",
              "  }\n",
              "\n",
              "  .colab-df-quickchart {\n",
              "    background-color: var(--bg-color);\n",
              "    border: none;\n",
              "    border-radius: 50%;\n",
              "    cursor: pointer;\n",
              "    display: none;\n",
              "    fill: var(--fill-color);\n",
              "    height: 32px;\n",
              "    padding: 0;\n",
              "    width: 32px;\n",
              "  }\n",
              "\n",
              "  .colab-df-quickchart:hover {\n",
              "    background-color: var(--hover-bg-color);\n",
              "    box-shadow: 0 1px 2px rgba(60, 64, 67, 0.3), 0 1px 3px 1px rgba(60, 64, 67, 0.15);\n",
              "    fill: var(--button-hover-fill-color);\n",
              "  }\n",
              "\n",
              "  .colab-df-quickchart-complete:disabled,\n",
              "  .colab-df-quickchart-complete:disabled:hover {\n",
              "    background-color: var(--disabled-bg-color);\n",
              "    fill: var(--disabled-fill-color);\n",
              "    box-shadow: none;\n",
              "  }\n",
              "\n",
              "  .colab-df-spinner {\n",
              "    border: 2px solid var(--fill-color);\n",
              "    border-color: transparent;\n",
              "    border-bottom-color: var(--fill-color);\n",
              "    animation:\n",
              "      spin 1s steps(1) infinite;\n",
              "  }\n",
              "\n",
              "  @keyframes spin {\n",
              "    0% {\n",
              "      border-color: transparent;\n",
              "      border-bottom-color: var(--fill-color);\n",
              "      border-left-color: var(--fill-color);\n",
              "    }\n",
              "    20% {\n",
              "      border-color: transparent;\n",
              "      border-left-color: var(--fill-color);\n",
              "      border-top-color: var(--fill-color);\n",
              "    }\n",
              "    30% {\n",
              "      border-color: transparent;\n",
              "      border-left-color: var(--fill-color);\n",
              "      border-top-color: var(--fill-color);\n",
              "      border-right-color: var(--fill-color);\n",
              "    }\n",
              "    40% {\n",
              "      border-color: transparent;\n",
              "      border-right-color: var(--fill-color);\n",
              "      border-top-color: var(--fill-color);\n",
              "    }\n",
              "    60% {\n",
              "      border-color: transparent;\n",
              "      border-right-color: var(--fill-color);\n",
              "    }\n",
              "    80% {\n",
              "      border-color: transparent;\n",
              "      border-right-color: var(--fill-color);\n",
              "      border-bottom-color: var(--fill-color);\n",
              "    }\n",
              "    90% {\n",
              "      border-color: transparent;\n",
              "      border-bottom-color: var(--fill-color);\n",
              "    }\n",
              "  }\n",
              "</style>\n",
              "\n",
              "  <script>\n",
              "    async function quickchart(key) {\n",
              "      const quickchartButtonEl =\n",
              "        document.querySelector('#' + key + ' button');\n",
              "      quickchartButtonEl.disabled = true;  // To prevent multiple clicks.\n",
              "      quickchartButtonEl.classList.add('colab-df-spinner');\n",
              "      try {\n",
              "        const charts = await google.colab.kernel.invokeFunction(\n",
              "            'suggestCharts', [key], {});\n",
              "      } catch (error) {\n",
              "        console.error('Error during call to suggestCharts:', error);\n",
              "      }\n",
              "      quickchartButtonEl.classList.remove('colab-df-spinner');\n",
              "      quickchartButtonEl.classList.add('colab-df-quickchart-complete');\n",
              "    }\n",
              "    (() => {\n",
              "      let quickchartButtonEl =\n",
              "        document.querySelector('#df-632d8a9f-1ff6-43e1-bd90-0bafd0f852c9 button');\n",
              "      quickchartButtonEl.style.display =\n",
              "        google.colab.kernel.accessAllowed ? 'block' : 'none';\n",
              "    })();\n",
              "  </script>\n",
              "</div>\n",
              "\n",
              "    </div>\n",
              "  </div>\n"
            ],
            "application/vnd.google.colaboratory.intrinsic+json": {
              "type": "dataframe",
              "variable_name": "df"
            }
          },
          "metadata": {},
          "execution_count": 30
        }
      ]
    },
    {
      "cell_type": "code",
      "source": [
        "print(f\"\"\"     Cantidad de variables: {len(df.columns[1:])} \"\"\")\n"
      ],
      "metadata": {
        "colab": {
          "base_uri": "https://localhost:8080/"
        },
        "id": "t5yxUhieeuqB",
        "outputId": "93591179-dd89-499f-9d3e-ca2e18a29842"
      },
      "execution_count": 40,
      "outputs": [
        {
          "output_type": "stream",
          "name": "stdout",
          "text": [
            "     Cantidad de variables: 31 \n"
          ]
        }
      ]
    },
    {
      "cell_type": "code",
      "source": [
        "tipos = df.dtypes\n",
        "{print(tipos)}"
      ],
      "metadata": {
        "colab": {
          "base_uri": "https://localhost:8080/"
        },
        "id": "XCakJW23gIw1",
        "outputId": "b2469f27-4da7-47e0-ea5a-af1c87aa4b5e"
      },
      "execution_count": 41,
      "outputs": [
        {
          "output_type": "stream",
          "name": "stdout",
          "text": [
            "ID                      int64\n",
            "radius1               float64\n",
            "texture1              float64\n",
            "perimeter1            float64\n",
            "area1                 float64\n",
            "smoothness1           float64\n",
            "compactness1          float64\n",
            "concavity1            float64\n",
            "concave_points1       float64\n",
            "symmetry1             float64\n",
            "fractal_dimension1    float64\n",
            "radius2               float64\n",
            "texture2              float64\n",
            "perimeter2            float64\n",
            "area2                 float64\n",
            "smoothness2           float64\n",
            "compactness2          float64\n",
            "concavity2            float64\n",
            "concave_points2       float64\n",
            "symmetry2             float64\n",
            "fractal_dimension2    float64\n",
            "radius3               float64\n",
            "texture3              float64\n",
            "perimeter3            float64\n",
            "area3                 float64\n",
            "smoothness3           float64\n",
            "compactness3          float64\n",
            "concavity3            float64\n",
            "concave_points3       float64\n",
            "symmetry3             float64\n",
            "fractal_dimension3    float64\n",
            "Diagnosis              object\n",
            "dtype: object\n"
          ]
        },
        {
          "output_type": "execute_result",
          "data": {
            "text/plain": [
              "{None}"
            ]
          },
          "metadata": {},
          "execution_count": 41
        }
      ]
    },
    {
      "cell_type": "markdown",
      "source": [
        "## Seleccion de datos X"
      ],
      "metadata": {
        "id": "j0Riv0Uhh3n_"
      }
    },
    {
      "cell_type": "code",
      "source": [
        "print(\"variables para x: \", len(df.columns[1:-1]))\n",
        "print(df.columns[1:-1])\n",
        "x = df.loc[:, df.columns[1:-1]].values"
      ],
      "metadata": {
        "colab": {
          "base_uri": "https://localhost:8080/"
        },
        "id": "WKlWHRlrgp0T",
        "outputId": "14355197-4ab7-4e64-ae7e-2dcba31d0467"
      },
      "execution_count": 49,
      "outputs": [
        {
          "output_type": "stream",
          "name": "stdout",
          "text": [
            "variables para x:  30\n",
            "Index(['radius1', 'texture1', 'perimeter1', 'area1', 'smoothness1',\n",
            "       'compactness1', 'concavity1', 'concave_points1', 'symmetry1',\n",
            "       'fractal_dimension1', 'radius2', 'texture2', 'perimeter2', 'area2',\n",
            "       'smoothness2', 'compactness2', 'concavity2', 'concave_points2',\n",
            "       'symmetry2', 'fractal_dimension2', 'radius3', 'texture3', 'perimeter3',\n",
            "       'area3', 'smoothness3', 'compactness3', 'concavity3', 'concave_points3',\n",
            "       'symmetry3', 'fractal_dimension3'],\n",
            "      dtype='object')\n"
          ]
        }
      ]
    },
    {
      "cell_type": "markdown",
      "source": [
        "## Seleccion de datos Y"
      ],
      "metadata": {
        "id": "HG5q2KUqh0Hm"
      }
    },
    {
      "cell_type": "markdown",
      "source": [
        "Mediante el objeto LabelEncoder (en lugar de onehotencoder)\n",
        "transformamos las etiquetas de clase a partir de su representación\n",
        "de cadena original(‘M’ y ‘B’) en enteros:"
      ],
      "metadata": {
        "id": "r8eFgJAuhpH2"
      }
    },
    {
      "cell_type": "code",
      "source": [
        "y = df['Diagnosis']\n",
        "le  = LabelEncoder()\n",
        "y = le.fit_transform(y)\n",
        "le.classes_"
      ],
      "metadata": {
        "colab": {
          "base_uri": "https://localhost:8080/"
        },
        "id": "rUhRRN6khKAg",
        "outputId": "5a377957-1a5a-4be5-b006-f36b65f49556"
      },
      "execution_count": 54,
      "outputs": [
        {
          "output_type": "execute_result",
          "data": {
            "text/plain": [
              "array(['B', 'M'], dtype=object)"
            ]
          },
          "metadata": {},
          "execution_count": 54
        }
      ]
    },
    {
      "cell_type": "markdown",
      "source": [
        "Después de codificar las etiquetas de clase (diagnósticos) en una\n",
        "matriz y, los tumores malignos se presentan ahora como clase 1 y los\n",
        "benignos como clase 0. Podemos comprobar doblemente este\n",
        "mapeo llamando al método transform del objeto ajustado\n",
        "LabelEncoder en dos etiquetas de clase ficticia:"
      ],
      "metadata": {
        "id": "6FzgKVTvhu7p"
      }
    },
    {
      "cell_type": "code",
      "source": [
        "le.transform([\"M\", \"B\"])"
      ],
      "metadata": {
        "colab": {
          "base_uri": "https://localhost:8080/"
        },
        "id": "lCMzqMXaiIfR",
        "outputId": "8c7c4a4e-1c4e-4f82-f5fd-839cdc747910"
      },
      "execution_count": 55,
      "outputs": [
        {
          "output_type": "execute_result",
          "data": {
            "text/plain": [
              "array([1, 0])"
            ]
          },
          "metadata": {},
          "execution_count": 55
        }
      ]
    },
    {
      "cell_type": "markdown",
      "source": [
        "## Seleccion datos Entrenamiento y Datos de Prueba"
      ],
      "metadata": {
        "id": "1Ho39sfJijlK"
      }
    },
    {
      "cell_type": "code",
      "source": [
        "xtrain, xtest, ytrain, ytest = \\\n",
        "  train_test_split(x, y, test_size=0.20, stratify=y, random_state=1)"
      ],
      "metadata": {
        "id": "Kr2Hy3v5ipI4"
      },
      "execution_count": 58,
      "outputs": []
    },
    {
      "cell_type": "markdown",
      "source": [
        "# Referencias\n"
      ],
      "metadata": {
        "id": "FtQAlpiYaybl"
      }
    },
    {
      "cell_type": "markdown",
      "source": [
        "vivianabautista.co"
      ],
      "metadata": {
        "id": "_3zVlM5XiZFV"
      }
    }
  ]
}